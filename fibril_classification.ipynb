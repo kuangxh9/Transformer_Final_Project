{
 "cells": [
  {
   "cell_type": "code",
   "execution_count": 1,
   "id": "e935e5de",
   "metadata": {},
   "outputs": [],
   "source": [
    "import pandas as pd\n",
    "from sklearn.model_selection import train_test_split\n",
    "import re\n",
    "import torch\n",
    "import esm\n",
    "from torch.utils.data import DataLoader, Dataset\n",
    "from torch import cuda\n",
    "import torch.nn.functional as F\n",
    "from torch.optim.lr_scheduler import ReduceLROnPlateau\n",
    "import numpy as np\n",
    "from sklearn.metrics import classification_report, confusion_matrix, precision_recall_fscore_support\n",
    "import warnings\n",
    "warnings.filterwarnings(\"ignore\")\n",
    "from tqdm import tqdm\n",
    "import matplotlib.pyplot as plt"
   ]
  },
  {
   "cell_type": "code",
   "execution_count": 2,
   "id": "a9399dfa",
   "metadata": {},
   "outputs": [],
   "source": [
    "def clean_sequence(sequence):\n",
    "    parts = sequence.split(\">\")\n",
    "    cleaned_parts = [part.split(\" \", 1)[-1].strip() for part in parts if part.strip()]\n",
    "    cleaned_sequence = \" \".join(cleaned_parts)\n",
    "    cleaned_sequence = re.sub(r\"\\(.*?\\)\", \"\", cleaned_sequence)\n",
    "    return cleaned_sequence.strip()"
   ]
  },
  {
   "cell_type": "code",
   "execution_count": 3,
   "id": "27ec1ed5",
   "metadata": {},
   "outputs": [],
   "source": [
    "def prepare_data(file_path):\n",
    "    data = pd.read_csv(file_path)\n",
    "    filtered_data = data[[\"interactor_sequence\", \"aggregation_speed\"]].copy()\n",
    "    filtered_data = filtered_data[filtered_data[\"aggregation_speed\"] != \"No information\"]\n",
    "    \n",
    "    label_mapping = {\n",
    "        \"Faster aggregation\": 2,\n",
    "        \"Slower aggregation\": 1,\n",
    "        \"No effect\": 0,\n",
    "        \"No aggregation\": 0\n",
    "    }\n",
    "    \n",
    "    filtered_data[\"label\"] = filtered_data[\"aggregation_speed\"].map(label_mapping)\n",
    "    filtered_data = filtered_data.dropna(subset=[\"label\"])\n",
    "    filtered_data[\"interactor_sequence\"] = filtered_data[\"interactor_sequence\"].apply(clean_sequence)\n",
    "    \n",
    "    filtered_data[\"seq_length\"] = filtered_data[\"interactor_sequence\"].str.len()\n",
    "    filtered_data = filtered_data[filtered_data[\"seq_length\"] <= 1024]\n",
    "    \n",
    "    return train_test_split(filtered_data, test_size=0.2, random_state=42, stratify=filtered_data[\"label\"])"
   ]
  },
  {
   "cell_type": "code",
   "execution_count": 4,
   "id": "b4c8e648",
   "metadata": {},
   "outputs": [],
   "source": [
    "class ProteinDataset(Dataset):\n",
    "    def __init__(self, sequences, labels):\n",
    "        self.sequences = sequences\n",
    "        self.labels = [int(label) for label in labels] \n",
    "        \n",
    "    def __len__(self):\n",
    "        return len(self.sequences)\n",
    "    \n",
    "    def __getitem__(self, idx):\n",
    "        return self.sequences[idx], self.labels[idx]"
   ]
  },
  {
   "cell_type": "code",
   "execution_count": 5,
   "id": "47a2a923",
   "metadata": {},
   "outputs": [],
   "source": [
    "class ProteinClassifier(torch.nn.Module):\n",
    "    def __init__(self, base_model, num_classes=3):\n",
    "        super().__init__()\n",
    "        self.base_model = base_model\n",
    "        self.dropout = torch.nn.Dropout(0.5)\n",
    "        self.classification_head = torch.nn.Sequential(\n",
    "            torch.nn.Linear(base_model.embed_dim, 256),\n",
    "            torch.nn.ReLU(),\n",
    "            torch.nn.Dropout(0.5),\n",
    "            torch.nn.Linear(256, num_classes),\n",
    "        )\n",
    "        \n",
    "    def forward(self, tokens):\n",
    "        outputs = self.base_model(tokens, repr_layers=[6])\n",
    "        embeddings = outputs[\"representations\"][6][:, 0, :]  # CLS token\n",
    "        embeddings = self.dropout(embeddings)\n",
    "        return self.classification_head(embeddings)"
   ]
  },
  {
   "cell_type": "code",
   "execution_count": 6,
   "id": "1c78d9e9",
   "metadata": {},
   "outputs": [],
   "source": [
    "class EarlyStopping:\n",
    "    def __init__(self, patience=5, min_delta=1e-4, verbose=False):\n",
    "        self.patience = patience\n",
    "        self.min_delta = min_delta\n",
    "        self.verbose = verbose\n",
    "        self.best_loss = float('inf')\n",
    "        self.counter = 0\n",
    "        self.stop = False\n",
    "    \n",
    "    def __call__(self, val_loss):\n",
    "        if val_loss < self.best_loss - self.min_delta:\n",
    "            self.best_loss = val_loss\n",
    "            self.counter = 0\n",
    "        else:\n",
    "            self.counter += 1\n",
    "            if self.verbose:\n",
    "                print(f\"EarlyStopping counter: {self.counter}/{self.patience}\")\n",
    "            if self.counter >= self.patience:\n",
    "                self.stop = True"
   ]
  },
  {
   "cell_type": "code",
   "execution_count": 7,
   "id": "d65ba993",
   "metadata": {},
   "outputs": [],
   "source": [
    "def train_one_epoch(model, dataloader, optimizer, criterion, device, scheduler=None):\n",
    "    model.train()\n",
    "    total_loss = 0\n",
    "    predictions_list = []\n",
    "    labels_list = []\n",
    "    \n",
    "    for labels, sequences, tokens in dataloader:\n",
    "        tokens = tokens.to(device)\n",
    "        labels = torch.tensor(labels, dtype=torch.long).to(device)\n",
    "        \n",
    "        optimizer.zero_grad()\n",
    "        logits = model(tokens)\n",
    "        loss = criterion(logits, labels)\n",
    "        \n",
    "        loss.backward()\n",
    "        torch.nn.utils.clip_grad_norm_(model.parameters(), max_norm=0.5) \n",
    "        optimizer.step()\n",
    "        \n",
    "        total_loss += loss.item()\n",
    "        predictions_list.extend(logits.argmax(dim=1).cpu().numpy())\n",
    "        labels_list.extend(labels.cpu().numpy())\n",
    "    \n",
    "    if scheduler is not None:\n",
    "        scheduler.step(total_loss / len(dataloader))\n",
    "        \n",
    "    return total_loss / len(dataloader), predictions_list, labels_list"
   ]
  },
  {
   "cell_type": "code",
   "execution_count": 8,
   "id": "65b62fe9",
   "metadata": {},
   "outputs": [],
   "source": [
    "def evaluate(model, dataloader, criterion, device):\n",
    "    model.eval()\n",
    "    total_loss = 0\n",
    "    predictions_list = []\n",
    "    labels_list = []\n",
    "    \n",
    "    with torch.no_grad():\n",
    "        for labels, sequences, tokens in dataloader:\n",
    "            tokens = tokens.to(device)\n",
    "            labels = torch.tensor(labels, dtype=torch.long).to(device)\n",
    "            \n",
    "            logits = model(tokens)\n",
    "            loss = criterion(logits, labels)\n",
    "            \n",
    "            total_loss += loss.item()\n",
    "            predictions_list.extend(logits.argmax(dim=1).cpu().numpy())\n",
    "            labels_list.extend(labels.cpu().numpy())\n",
    "    \n",
    "    return (\n",
    "        total_loss / len(dataloader),\n",
    "        predictions_list,\n",
    "        labels_list\n",
    "    )"
   ]
  },
  {
   "cell_type": "code",
   "execution_count": 9,
   "id": "1c54aa4f",
   "metadata": {},
   "outputs": [],
   "source": [
    "device = torch.device(\"cuda\" if torch.cuda.is_available() else \"cpu\")\n",
    "torch.manual_seed(42)\n",
    "if torch.cuda.is_available():\n",
    "    torch.cuda.manual_seed_all(42)\n",
    "\n",
    "train_data, test_data = prepare_data('./data/AmyloGraph.csv')\n",
    "\n",
    "base_model, alphabet = esm.pretrained.esm2_t6_8M_UR50D()\n",
    "batch_converter = alphabet.get_batch_converter()"
   ]
  },
  {
   "cell_type": "code",
   "execution_count": 10,
   "id": "e24d0409",
   "metadata": {},
   "outputs": [],
   "source": [
    "train_dataset = ProteinDataset(train_data[\"interactor_sequence\"].tolist(), train_data[\"label\"].tolist())\n",
    "test_dataset = ProteinDataset(test_data[\"interactor_sequence\"].tolist(), test_data[\"label\"].tolist())"
   ]
  },
  {
   "cell_type": "code",
   "execution_count": 11,
   "id": "68e0f00b",
   "metadata": {},
   "outputs": [],
   "source": [
    "train_loader = DataLoader(\n",
    "        train_dataset,\n",
    "        batch_size=16,\n",
    "        shuffle=True,\n",
    "        collate_fn=lambda batch: batch_converter([(int(label), seq) for seq, label in batch])\n",
    "    )\n",
    "    \n",
    "test_loader = DataLoader(\n",
    "    test_dataset,\n",
    "    batch_size=16,\n",
    "    shuffle=False,\n",
    "    collate_fn=lambda batch: batch_converter([(int(label), seq) for seq, label in batch])\n",
    ")"
   ]
  },
  {
   "cell_type": "code",
   "execution_count": 12,
   "id": "f46bbbcf",
   "metadata": {},
   "outputs": [],
   "source": [
    "model = ProteinClassifier(base_model).to(device)"
   ]
  },
  {
   "cell_type": "code",
   "execution_count": 13,
   "id": "2287fe3f",
   "metadata": {},
   "outputs": [
    {
     "name": "stdout",
     "output_type": "stream",
     "text": [
      "Trainable Parameters (110)\n"
     ]
    }
   ],
   "source": [
    "trainable_params = [name for name, param in model.named_parameters() if param.requires_grad]\n",
    "print(f\"Trainable Parameters ({len(trainable_params)})\")"
   ]
  },
  {
   "cell_type": "code",
   "execution_count": 14,
   "id": "17d85360",
   "metadata": {},
   "outputs": [],
   "source": [
    "optimizer = torch.optim.AdamW([\n",
    "    {'params': model.base_model.parameters(), 'lr': 1e-5},\n",
    "    {'params': model.classification_head.parameters(), 'lr': 1e-4}], weight_decay=0.01)\n",
    "\n",
    "scheduler = torch.optim.lr_scheduler.CosineAnnealingLR(\n",
    "    optimizer, \n",
    "    T_max=50,\n",
    "    eta_min=1e-6\n",
    ")\n",
    "\n",
    "criterion = torch.nn.CrossEntropyLoss(weight=torch.tensor([1.0, 2.0, 2.0]).to(device))"
   ]
  },
  {
   "cell_type": "code",
   "execution_count": 15,
   "id": "17fb8fb0",
   "metadata": {},
   "outputs": [
    {
     "name": "stdout",
     "output_type": "stream",
     "text": [
      "Epoch 5/50\n",
      "Train Loss: 0.8910\n",
      "Val Loss: 0.8741\n",
      "\n",
      "Epoch 10/50\n",
      "Train Loss: 0.7972\n",
      "Val Loss: 0.8250\n",
      "\n",
      "EarlyStopping counter: 1/5\n",
      "EarlyStopping counter: 2/5\n",
      "EarlyStopping counter: 3/5\n",
      "Epoch 15/50\n",
      "Train Loss: 0.7769\n",
      "Val Loss: 0.8384\n",
      "\n",
      "EarlyStopping counter: 1/5\n",
      "EarlyStopping counter: 2/5\n",
      "EarlyStopping counter: 3/5\n",
      "EarlyStopping counter: 4/5\n",
      "EarlyStopping counter: 5/5\n",
      "Early stopping triggered at epoch 19.\n",
      "\n",
      "Final Training Results:\n",
      "Train Loss: 0.7372\n",
      "Val Loss: 0.8225\n",
      "\n",
      "Validation Classification Report:\n",
      "              precision    recall  f1-score   support\n",
      "\n",
      "           0       0.82      0.17      0.29        52\n",
      "           1       0.46      0.61      0.52        38\n",
      "           2       0.63      0.84      0.72        86\n",
      "\n",
      "    accuracy                           0.59       176\n",
      "   macro avg       0.63      0.54      0.51       176\n",
      "weighted avg       0.65      0.59      0.55       176\n",
      "\n"
     ]
    }
   ],
   "source": [
    "early_stopping = EarlyStopping(patience=5, min_delta=1e-4, verbose=True)\n",
    "\n",
    "num_epochs = 50\n",
    "best_val_loss = float('inf')\n",
    "best_model_state = None\n",
    "print_interval = 5\n",
    "\n",
    "train_losses = []\n",
    "val_losses = []\n",
    "\n",
    "for epoch in range(num_epochs):\n",
    "    train_loss, train_preds, train_labels = train_one_epoch(\n",
    "        model, train_loader, optimizer, criterion, device, scheduler\n",
    "    )\n",
    "    val_loss, val_preds, val_labels = evaluate(model, test_loader, criterion, device)\n",
    "\n",
    "    train_losses.append(train_loss)\n",
    "    val_losses.append(val_loss)\n",
    "\n",
    "    if (epoch + 1) % print_interval == 0:\n",
    "        print(f\"Epoch {epoch + 1}/{num_epochs}\")\n",
    "        print(f\"Train Loss: {train_loss:.4f}\")\n",
    "        print(f\"Val Loss: {val_loss:.4f}\\n\")\n",
    "\n",
    "    if val_loss < best_val_loss:\n",
    "        best_val_loss = val_loss\n",
    "        best_model_state = model.state_dict().copy()\n",
    "    \n",
    "    early_stopping(val_loss)    \n",
    "    if early_stopping.stop:\n",
    "        print(f\"Early stopping triggered at epoch {epoch + 1}.\")\n",
    "        break\n",
    "        \n",
    "print(\"\\nFinal Training Results:\")\n",
    "print(f\"Train Loss: {train_losses[-1]:.4f}\")\n",
    "print(f\"Val Loss: {val_losses[-1]:.4f}\")\n",
    "\n",
    "print(\"\\nValidation Classification Report:\")\n",
    "print(classification_report(val_labels, val_preds))\n",
    "\n",
    "torch.save(model.state_dict(), \"work_dir/esm_finetuned_model.pt\")"
   ]
  },
  {
   "cell_type": "code",
   "execution_count": 18,
   "id": "faa79447",
   "metadata": {},
   "outputs": [
    {
     "data": {
      "image/png": "[encoded data removed]",
      "text/plain": [
       "<Figure size 600x400 with 1 Axes>"
      ]
     },
     "metadata": {},
     "output_type": "display_data"
    }
   ],
   "source": [
    "def plot_loss(num_epochs, train_losses, val_losses):\n",
    "    actual_epochs = len(train_losses) \n",
    "    plt.figure(figsize=(6, 4))\n",
    "    plt.plot(range(1, actual_epochs + 1), train_losses, label='Train Loss', marker='o')\n",
    "    plt.plot(range(1, actual_epochs + 1), val_losses, label='Validation Loss', marker='o')\n",
    "    plt.xlabel('Epoch')\n",
    "    plt.ylabel('Loss')\n",
    "    plt.title('Training and Validation Loss')\n",
    "    plt.legend()\n",
    "    plt.grid(True)\n",
    "    plt.tight_layout()\n",
    "    plt.show()\n",
    "\n",
    "plot_loss(len(train_losses), train_losses, val_losses)"
   ]
  },
  {
   "cell_type": "code",
   "execution_count": 19,
   "id": "a968e6c4",
   "metadata": {},
   "outputs": [
    {
     "name": "stdout",
     "output_type": "stream",
     "text": [
      "\n",
      "Final Model Performance:\n",
      "Test Loss: 0.8225\n",
      "\n",
      "Test Classification Report:\n",
      "              precision    recall  f1-score   support\n",
      "\n",
      "           0       0.82      0.17      0.29        52\n",
      "           1       0.46      0.61      0.52        38\n",
      "           2       0.63      0.84      0.72        86\n",
      "\n",
      "    accuracy                           0.59       176\n",
      "   macro avg       0.63      0.54      0.51       176\n",
      "weighted avg       0.65      0.59      0.55       176\n",
      "\n",
      "\n",
      "Confusion Matrix:\n",
      "[[ 9 15 28]\n",
      " [ 0 23 15]\n",
      " [ 2 12 72]]\n"
     ]
    }
   ],
   "source": [
    "if best_model_state is not None:\n",
    "    model.load_state_dict(best_model_state)\n",
    "    final_loss, final_preds, final_labels = evaluate(model, test_loader, criterion, device)\n",
    "    print(\"\\nFinal Model Performance:\")\n",
    "    print(f\"Test Loss: {final_loss:.4f}\")\n",
    "    print(\"\\nTest Classification Report:\")\n",
    "    print(classification_report(final_labels, final_preds))\n",
    "    print(\"\\nConfusion Matrix:\")\n",
    "    print(confusion_matrix(final_labels, final_preds))\n",
    "\n",
    "    torch.save({\n",
    "        'model_state_dict': model.state_dict(),\n",
    "        'optimizer_state_dict': optimizer.state_dict(),\n",
    "        'train_loss': train_loss,\n",
    "        'val_loss': val_loss,\n",
    "    }, 'protein_classifier_best.pth')"
   ]
  },
  {
   "cell_type": "code",
   "execution_count": 20,
   "id": "4996eecc",
   "metadata": {},
   "outputs": [
    {
     "data": {
      "text/plain": [
       "ProteinClassifier(\n",
       "  (base_model): ESM2(\n",
       "    (embed_tokens): Embedding(33, 320, padding_idx=1)\n",
       "    (layers): ModuleList(\n",
       "      (0-5): 6 x TransformerLayer(\n",
       "        (self_attn): MultiheadAttention(\n",
       "          (k_proj): Linear(in_features=320, out_features=320, bias=True)\n",
       "          (v_proj): Linear(in_features=320, out_features=320, bias=True)\n",
       "          (q_proj): Linear(in_features=320, out_features=320, bias=True)\n",
       "          (out_proj): Linear(in_features=320, out_features=320, bias=True)\n",
       "          (rot_emb): RotaryEmbedding()\n",
       "        )\n",
       "        (self_attn_layer_norm): ESM1bLayerNorm(torch.Size([320]), eps=1e-05, elementwise_affine=True)\n",
       "        (fc1): Linear(in_features=320, out_features=1280, bias=True)\n",
       "        (fc2): Linear(in_features=1280, out_features=320, bias=True)\n",
       "        (final_layer_norm): ESM1bLayerNorm(torch.Size([320]), eps=1e-05, elementwise_affine=True)\n",
       "      )\n",
       "    )\n",
       "    (contact_head): ContactPredictionHead(\n",
       "      (regression): Linear(in_features=120, out_features=1, bias=True)\n",
       "      (activation): Sigmoid()\n",
       "    )\n",
       "    (emb_layer_norm_after): ESM1bLayerNorm(torch.Size([320]), eps=1e-05, elementwise_affine=True)\n",
       "    (lm_head): RobertaLMHead(\n",
       "      (dense): Linear(in_features=320, out_features=320, bias=True)\n",
       "      (layer_norm): ESM1bLayerNorm(torch.Size([320]), eps=1e-05, elementwise_affine=True)\n",
       "    )\n",
       "  )\n",
       "  (dropout): Dropout(p=0.5, inplace=False)\n",
       "  (classification_head): Sequential(\n",
       "    (0): Linear(in_features=320, out_features=256, bias=True)\n",
       "    (1): ReLU()\n",
       "    (2): Dropout(p=0.5, inplace=False)\n",
       "    (3): Linear(in_features=256, out_features=3, bias=True)\n",
       "  )\n",
       ")"
      ]
     },
     "execution_count": 20,
     "metadata": {},
     "output_type": "execute_result"
    }
   ],
   "source": [
    "model = ProteinClassifier(base_model)\n",
    "model.load_state_dict(torch.load(\"work_dir/esm_finetuned_model.pt\"))\n",
    "model.eval()\n",
    "model.to(device)"
   ]
  },
  {
   "cell_type": "code",
   "execution_count": 21,
   "id": "58206a09",
   "metadata": {},
   "outputs": [],
   "source": [
    "import torch.nn.functional as F\n",
    "\n",
    "def predict_sequence(model, sequence, batch_converter, device):\n",
    "    data = [(\"sequence\", sequence)]\n",
    "    _, _, tokens = batch_converter(data)\n",
    "    tokens = tokens.to(device)\n",
    "    \n",
    "    with torch.no_grad():\n",
    "        logits = model(tokens)\n",
    "        probabilities = F.softmax(logits, dim=1).cpu().numpy()[0]\n",
    "        predicted_label = probabilities.argmax()\n",
    "    \n",
    "    return predicted_label, probabilities\n"
   ]
  },
  {
   "cell_type": "code",
   "execution_count": 22,
   "id": "26c95dfa",
   "metadata": {},
   "outputs": [
    {
     "name": "stdout",
     "output_type": "stream",
     "text": [
      "Sequence: ACDEFGHIKLMNPQRSTVWY\n",
      "Predicted Label: 2\n",
      "Probabilities: [0.29917324 0.16167556 0.53915125]\n"
     ]
    }
   ],
   "source": [
    "# Sample sequence\n",
    "sequence = \"ACDEFGHIKLMNPQRSTVWY\"\n",
    "\n",
    "# batch_converter\n",
    "batch_converter = alphabet.get_batch_converter()\n",
    "\n",
    "predicted_label, probabilities = predict_sequence(model, sequence, batch_converter, device)\n",
    "\n",
    "print(f\"Sequence: {sequence}\")\n",
    "print(f\"Predicted Label: {predicted_label}\")\n",
    "print(f\"Probabilities: {probabilities}\")"
   ]
  }
 ],
 "metadata": {
  "kernelspec": {
   "display_name": "Python 3 (ipykernel)",
   "language": "python",
   "name": "python3"
  },
  "language_info": {
   "codemirror_mode": {
    "name": "ipython",
    "version": 3
   },
   "file_extension": ".py",
   "mimetype": "text/x-python",
   "name": "python",
   "nbconvert_exporter": "python",
   "pygments_lexer": "ipython3",
   "version": "3.10.12"
  }
 },
 "nbformat": 4,
 "nbformat_minor": 5
}
